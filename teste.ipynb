{
 "cells": [
  {
   "cell_type": "code",
   "execution_count": 1,
   "metadata": {},
   "outputs": [],
   "source": [
    "import re"
   ]
  },
  {
   "cell_type": "code",
   "execution_count": 2,
   "metadata": {},
   "outputs": [],
   "source": [
    "a = \"13452198499\"\n",
    "b = \"134.521.984-99\"\n",
    "c = \"134.521.98499\"\n",
    "d = \"134521.984-99\""
   ]
  },
  {
   "cell_type": "code",
   "execution_count": 11,
   "metadata": {},
   "outputs": [],
   "source": [
    "if re.fullmatch(r'\\d{3}\\.\\d{3}\\.\\d{3}-\\d{2}', c): print(\"ha\")"
   ]
  }
 ],
 "metadata": {
  "interpreter": {
   "hash": "e713317d1d83476f9a43cc513c3e498b2f92753dc00334ef3a6210f421fa15eb"
  },
  "kernelspec": {
   "display_name": "Python 3.10.1 ('venv': venv)",
   "language": "python",
   "name": "python3"
  },
  "language_info": {
   "codemirror_mode": {
    "name": "ipython",
    "version": 3
   },
   "file_extension": ".py",
   "mimetype": "text/x-python",
   "name": "python",
   "nbconvert_exporter": "python",
   "pygments_lexer": "ipython3",
   "version": "3.10.1"
  },
  "orig_nbformat": 4
 },
 "nbformat": 4,
 "nbformat_minor": 2
}
